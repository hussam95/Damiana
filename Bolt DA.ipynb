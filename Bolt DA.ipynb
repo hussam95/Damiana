{
 "cells": [
  {
   "cell_type": "markdown",
   "id": "3e0d31cd",
   "metadata": {},
   "source": [
    "# Bolt Data Analysis"
   ]
  },
  {
   "cell_type": "code",
   "execution_count": 1,
   "id": "4bca00f5",
   "metadata": {},
   "outputs": [],
   "source": [
    "import pandas as pd\n",
    "import numpy as np\n",
    "import seaborn as sns\n",
    "import matplotlib.pyplot as plt"
   ]
  },
  {
   "cell_type": "code",
   "execution_count": 2,
   "id": "2900e9ab",
   "metadata": {},
   "outputs": [],
   "source": [
    "bolt_data = pd.read_excel(\"Bolt_dataset.xlsx\")"
   ]
  },
  {
   "cell_type": "code",
   "execution_count": 3,
   "id": "231c259c",
   "metadata": {},
   "outputs": [
    {
     "data": {
      "text/html": [
       "<div>\n",
       "<style scoped>\n",
       "    .dataframe tbody tr th:only-of-type {\n",
       "        vertical-align: middle;\n",
       "    }\n",
       "\n",
       "    .dataframe tbody tr th {\n",
       "        vertical-align: top;\n",
       "    }\n",
       "\n",
       "    .dataframe thead th {\n",
       "        text-align: right;\n",
       "    }\n",
       "</style>\n",
       "<table border=\"1\" class=\"dataframe\">\n",
       "  <thead>\n",
       "    <tr style=\"text-align: right;\">\n",
       "      <th></th>\n",
       "      <th>order_id_new</th>\n",
       "      <th>order_try_id_new</th>\n",
       "      <th>calc_created</th>\n",
       "      <th>metered_price</th>\n",
       "      <th>upfront_price</th>\n",
       "      <th>distance</th>\n",
       "      <th>duration</th>\n",
       "      <th>gps_confidence</th>\n",
       "      <th>entered_by</th>\n",
       "      <th>b_state</th>\n",
       "      <th>...</th>\n",
       "      <th>device_token</th>\n",
       "      <th>rider_app_version</th>\n",
       "      <th>order_state</th>\n",
       "      <th>order_try_state</th>\n",
       "      <th>driver_app_version</th>\n",
       "      <th>driver_device_uid_new</th>\n",
       "      <th>device_name</th>\n",
       "      <th>eu_indicator</th>\n",
       "      <th>overpaid_ride_ticket</th>\n",
       "      <th>fraud_score</th>\n",
       "    </tr>\n",
       "  </thead>\n",
       "  <tbody>\n",
       "    <tr>\n",
       "      <th>0</th>\n",
       "      <td>22</td>\n",
       "      <td>22</td>\n",
       "      <td>2020-02-02 03:37:31</td>\n",
       "      <td>4.04</td>\n",
       "      <td>10.0</td>\n",
       "      <td>2839</td>\n",
       "      <td>700</td>\n",
       "      <td>1</td>\n",
       "      <td>client</td>\n",
       "      <td>finished</td>\n",
       "      <td>...</td>\n",
       "      <td>NaN</td>\n",
       "      <td>CI.4.17</td>\n",
       "      <td>finished</td>\n",
       "      <td>finished</td>\n",
       "      <td>DA.4.37</td>\n",
       "      <td>1596</td>\n",
       "      <td>Xiaomi Redmi 6</td>\n",
       "      <td>1</td>\n",
       "      <td>0</td>\n",
       "      <td>-1383.0</td>\n",
       "    </tr>\n",
       "    <tr>\n",
       "      <th>1</th>\n",
       "      <td>618</td>\n",
       "      <td>618</td>\n",
       "      <td>2020-02-08 02:26:19</td>\n",
       "      <td>6.09</td>\n",
       "      <td>3.6</td>\n",
       "      <td>5698</td>\n",
       "      <td>493</td>\n",
       "      <td>1</td>\n",
       "      <td>client</td>\n",
       "      <td>finished</td>\n",
       "      <td>...</td>\n",
       "      <td>NaN</td>\n",
       "      <td>CA.5.43</td>\n",
       "      <td>finished</td>\n",
       "      <td>finished</td>\n",
       "      <td>DA.4.39</td>\n",
       "      <td>1578</td>\n",
       "      <td>Samsung SM-G965F</td>\n",
       "      <td>1</td>\n",
       "      <td>0</td>\n",
       "      <td>NaN</td>\n",
       "    </tr>\n",
       "    <tr>\n",
       "      <th>2</th>\n",
       "      <td>657</td>\n",
       "      <td>657</td>\n",
       "      <td>2020-02-08 11:50:35</td>\n",
       "      <td>4.32</td>\n",
       "      <td>3.5</td>\n",
       "      <td>4426</td>\n",
       "      <td>695</td>\n",
       "      <td>1</td>\n",
       "      <td>client</td>\n",
       "      <td>finished</td>\n",
       "      <td>...</td>\n",
       "      <td>NaN</td>\n",
       "      <td>CA.5.43</td>\n",
       "      <td>finished</td>\n",
       "      <td>finished</td>\n",
       "      <td>DA.4.37</td>\n",
       "      <td>951</td>\n",
       "      <td>Samsung SM-A530F</td>\n",
       "      <td>1</td>\n",
       "      <td>0</td>\n",
       "      <td>-166.0</td>\n",
       "    </tr>\n",
       "    <tr>\n",
       "      <th>3</th>\n",
       "      <td>313</td>\n",
       "      <td>313</td>\n",
       "      <td>2020-02-05 06:34:54</td>\n",
       "      <td>72871.72</td>\n",
       "      <td>NaN</td>\n",
       "      <td>49748</td>\n",
       "      <td>1400</td>\n",
       "      <td>0</td>\n",
       "      <td>client</td>\n",
       "      <td>finished</td>\n",
       "      <td>...</td>\n",
       "      <td>NaN</td>\n",
       "      <td>CA.5.23</td>\n",
       "      <td>finished</td>\n",
       "      <td>finished</td>\n",
       "      <td>DA.4.37</td>\n",
       "      <td>1587</td>\n",
       "      <td>TECNO-Y6</td>\n",
       "      <td>0</td>\n",
       "      <td>1</td>\n",
       "      <td>NaN</td>\n",
       "    </tr>\n",
       "    <tr>\n",
       "      <th>4</th>\n",
       "      <td>1176</td>\n",
       "      <td>1176</td>\n",
       "      <td>2020-02-13 17:31:24</td>\n",
       "      <td>20032.50</td>\n",
       "      <td>19500.0</td>\n",
       "      <td>10273</td>\n",
       "      <td>5067</td>\n",
       "      <td>1</td>\n",
       "      <td>client</td>\n",
       "      <td>finished</td>\n",
       "      <td>...</td>\n",
       "      <td>NaN</td>\n",
       "      <td>CA.5.04</td>\n",
       "      <td>finished</td>\n",
       "      <td>finished</td>\n",
       "      <td>DA.4.37</td>\n",
       "      <td>433</td>\n",
       "      <td>Itel W5504</td>\n",
       "      <td>0</td>\n",
       "      <td>0</td>\n",
       "      <td>NaN</td>\n",
       "    </tr>\n",
       "  </tbody>\n",
       "</table>\n",
       "<p>5 rows × 26 columns</p>\n",
       "</div>"
      ],
      "text/plain": [
       "   order_id_new  order_try_id_new        calc_created  metered_price  \\\n",
       "0            22                22 2020-02-02 03:37:31           4.04   \n",
       "1           618               618 2020-02-08 02:26:19           6.09   \n",
       "2           657               657 2020-02-08 11:50:35           4.32   \n",
       "3           313               313 2020-02-05 06:34:54       72871.72   \n",
       "4          1176              1176 2020-02-13 17:31:24       20032.50   \n",
       "\n",
       "   upfront_price  distance  duration  gps_confidence entered_by   b_state  \\\n",
       "0           10.0      2839       700               1     client  finished   \n",
       "1            3.6      5698       493               1     client  finished   \n",
       "2            3.5      4426       695               1     client  finished   \n",
       "3            NaN     49748      1400               0     client  finished   \n",
       "4        19500.0     10273      5067               1     client  finished   \n",
       "\n",
       "   ...  device_token rider_app_version  order_state  order_try_state  \\\n",
       "0  ...           NaN           CI.4.17     finished         finished   \n",
       "1  ...           NaN           CA.5.43     finished         finished   \n",
       "2  ...           NaN           CA.5.43     finished         finished   \n",
       "3  ...           NaN           CA.5.23     finished         finished   \n",
       "4  ...           NaN           CA.5.04     finished         finished   \n",
       "\n",
       "  driver_app_version  driver_device_uid_new       device_name eu_indicator  \\\n",
       "0            DA.4.37                   1596    Xiaomi Redmi 6            1   \n",
       "1            DA.4.39                   1578  Samsung SM-G965F            1   \n",
       "2            DA.4.37                    951  Samsung SM-A530F            1   \n",
       "3            DA.4.37                   1587          TECNO-Y6            0   \n",
       "4            DA.4.37                    433        Itel W5504            0   \n",
       "\n",
       "  overpaid_ride_ticket fraud_score  \n",
       "0                    0     -1383.0  \n",
       "1                    0         NaN  \n",
       "2                    0      -166.0  \n",
       "3                    1         NaN  \n",
       "4                    0         NaN  \n",
       "\n",
       "[5 rows x 26 columns]"
      ]
     },
     "execution_count": 3,
     "metadata": {},
     "output_type": "execute_result"
    }
   ],
   "source": [
    "bolt_data.head()"
   ]
  },
  {
   "cell_type": "code",
   "execution_count": 4,
   "id": "e819f134",
   "metadata": {},
   "outputs": [
    {
     "data": {
      "text/plain": [
       "1534"
      ]
     },
     "execution_count": 4,
     "metadata": {},
     "output_type": "execute_result"
    }
   ],
   "source": [
    "# Missing upfront_price values count\n",
    "bolt_data[\"upfront_price\"].isnull().sum()"
   ]
  },
  {
   "cell_type": "code",
   "execution_count": 5,
   "id": "fac563df",
   "metadata": {},
   "outputs": [
    {
     "data": {
      "text/html": [
       "<div>\n",
       "<style scoped>\n",
       "    .dataframe tbody tr th:only-of-type {\n",
       "        vertical-align: middle;\n",
       "    }\n",
       "\n",
       "    .dataframe tbody tr th {\n",
       "        vertical-align: top;\n",
       "    }\n",
       "\n",
       "    .dataframe thead th {\n",
       "        text-align: right;\n",
       "    }\n",
       "</style>\n",
       "<table border=\"1\" class=\"dataframe\">\n",
       "  <thead>\n",
       "    <tr style=\"text-align: right;\">\n",
       "      <th></th>\n",
       "      <th>order_id_new</th>\n",
       "      <th>order_try_id_new</th>\n",
       "      <th>calc_created</th>\n",
       "      <th>metered_price</th>\n",
       "      <th>upfront_price</th>\n",
       "      <th>distance</th>\n",
       "      <th>duration</th>\n",
       "      <th>gps_confidence</th>\n",
       "      <th>entered_by</th>\n",
       "      <th>b_state</th>\n",
       "      <th>...</th>\n",
       "      <th>device_token</th>\n",
       "      <th>rider_app_version</th>\n",
       "      <th>order_state</th>\n",
       "      <th>order_try_state</th>\n",
       "      <th>driver_app_version</th>\n",
       "      <th>driver_device_uid_new</th>\n",
       "      <th>device_name</th>\n",
       "      <th>eu_indicator</th>\n",
       "      <th>overpaid_ride_ticket</th>\n",
       "      <th>fraud_score</th>\n",
       "    </tr>\n",
       "  </thead>\n",
       "  <tbody>\n",
       "    <tr>\n",
       "      <th>3</th>\n",
       "      <td>313</td>\n",
       "      <td>313</td>\n",
       "      <td>2020-02-05 06:34:54</td>\n",
       "      <td>72871.72</td>\n",
       "      <td>NaN</td>\n",
       "      <td>49748</td>\n",
       "      <td>1400</td>\n",
       "      <td>0</td>\n",
       "      <td>client</td>\n",
       "      <td>finished</td>\n",
       "      <td>...</td>\n",
       "      <td>NaN</td>\n",
       "      <td>CA.5.23</td>\n",
       "      <td>finished</td>\n",
       "      <td>finished</td>\n",
       "      <td>DA.4.37</td>\n",
       "      <td>1587</td>\n",
       "      <td>TECNO-Y6</td>\n",
       "      <td>0</td>\n",
       "      <td>1</td>\n",
       "      <td>NaN</td>\n",
       "    </tr>\n",
       "    <tr>\n",
       "      <th>8</th>\n",
       "      <td>1904</td>\n",
       "      <td>1904</td>\n",
       "      <td>2020-02-20 16:38:34</td>\n",
       "      <td>13600.50</td>\n",
       "      <td>NaN</td>\n",
       "      <td>9540</td>\n",
       "      <td>1917</td>\n",
       "      <td>1</td>\n",
       "      <td>client</td>\n",
       "      <td>finished</td>\n",
       "      <td>...</td>\n",
       "      <td>NaN</td>\n",
       "      <td>CA.5.40</td>\n",
       "      <td>finished</td>\n",
       "      <td>finished</td>\n",
       "      <td>DA.4.31</td>\n",
       "      <td>605</td>\n",
       "      <td>TECNO K7</td>\n",
       "      <td>0</td>\n",
       "      <td>0</td>\n",
       "      <td>NaN</td>\n",
       "    </tr>\n",
       "    <tr>\n",
       "      <th>11</th>\n",
       "      <td>2803</td>\n",
       "      <td>2803</td>\n",
       "      <td>2020-02-29 01:44:16</td>\n",
       "      <td>18.80</td>\n",
       "      <td>NaN</td>\n",
       "      <td>17107</td>\n",
       "      <td>1552</td>\n",
       "      <td>1</td>\n",
       "      <td>client</td>\n",
       "      <td>finished</td>\n",
       "      <td>...</td>\n",
       "      <td>NaN</td>\n",
       "      <td>CI.4.17</td>\n",
       "      <td>finished</td>\n",
       "      <td>finished</td>\n",
       "      <td>DA.4.37</td>\n",
       "      <td>1695</td>\n",
       "      <td>LENOVO Lenovo TB-7304F</td>\n",
       "      <td>1</td>\n",
       "      <td>0</td>\n",
       "      <td>-100.0</td>\n",
       "    </tr>\n",
       "    <tr>\n",
       "      <th>12</th>\n",
       "      <td>3313</td>\n",
       "      <td>3313</td>\n",
       "      <td>2020-03-06 00:29:03</td>\n",
       "      <td>31.23</td>\n",
       "      <td>NaN</td>\n",
       "      <td>54757</td>\n",
       "      <td>6581</td>\n",
       "      <td>1</td>\n",
       "      <td>driver</td>\n",
       "      <td>finished</td>\n",
       "      <td>...</td>\n",
       "      <td>NaN</td>\n",
       "      <td>CI.4.19</td>\n",
       "      <td>finished</td>\n",
       "      <td>finished</td>\n",
       "      <td>DA.4.39</td>\n",
       "      <td>1459</td>\n",
       "      <td>Samsung SM-G950F</td>\n",
       "      <td>1</td>\n",
       "      <td>0</td>\n",
       "      <td>-58.0</td>\n",
       "    </tr>\n",
       "    <tr>\n",
       "      <th>14</th>\n",
       "      <td>3675</td>\n",
       "      <td>3675</td>\n",
       "      <td>2020-03-09 10:50:57</td>\n",
       "      <td>8.53</td>\n",
       "      <td>NaN</td>\n",
       "      <td>11456</td>\n",
       "      <td>1205</td>\n",
       "      <td>1</td>\n",
       "      <td>driver</td>\n",
       "      <td>finished</td>\n",
       "      <td>...</td>\n",
       "      <td>NaN</td>\n",
       "      <td>CI.4.19</td>\n",
       "      <td>finished</td>\n",
       "      <td>finished</td>\n",
       "      <td>DA.4.42</td>\n",
       "      <td>629</td>\n",
       "      <td>Samsung SM-J610FN</td>\n",
       "      <td>1</td>\n",
       "      <td>0</td>\n",
       "      <td>-498.0</td>\n",
       "    </tr>\n",
       "    <tr>\n",
       "      <th>15</th>\n",
       "      <td>3638</td>\n",
       "      <td>3638</td>\n",
       "      <td>2020-03-08 21:01:19</td>\n",
       "      <td>13643.28</td>\n",
       "      <td>NaN</td>\n",
       "      <td>10365</td>\n",
       "      <td>1533</td>\n",
       "      <td>1</td>\n",
       "      <td>client</td>\n",
       "      <td>finished</td>\n",
       "      <td>...</td>\n",
       "      <td>NaN</td>\n",
       "      <td>CI.4.19</td>\n",
       "      <td>finished</td>\n",
       "      <td>finished</td>\n",
       "      <td>DA.4.39</td>\n",
       "      <td>1968</td>\n",
       "      <td>TECNO MOBILE LIMITED TECNO CC7</td>\n",
       "      <td>0</td>\n",
       "      <td>0</td>\n",
       "      <td>NaN</td>\n",
       "    </tr>\n",
       "    <tr>\n",
       "      <th>18</th>\n",
       "      <td>73</td>\n",
       "      <td>73</td>\n",
       "      <td>2020-02-02 14:46:22</td>\n",
       "      <td>15.67</td>\n",
       "      <td>NaN</td>\n",
       "      <td>22396</td>\n",
       "      <td>2237</td>\n",
       "      <td>1</td>\n",
       "      <td>client</td>\n",
       "      <td>finished</td>\n",
       "      <td>...</td>\n",
       "      <td>NaN</td>\n",
       "      <td>CA.5.40</td>\n",
       "      <td>finished</td>\n",
       "      <td>finished</td>\n",
       "      <td>DA.4.37</td>\n",
       "      <td>2110</td>\n",
       "      <td>Samsung SM-G965F</td>\n",
       "      <td>1</td>\n",
       "      <td>0</td>\n",
       "      <td>-160.0</td>\n",
       "    </tr>\n",
       "    <tr>\n",
       "      <th>19</th>\n",
       "      <td>91</td>\n",
       "      <td>91</td>\n",
       "      <td>2020-02-02 17:29:02</td>\n",
       "      <td>2.97</td>\n",
       "      <td>NaN</td>\n",
       "      <td>1754</td>\n",
       "      <td>491</td>\n",
       "      <td>1</td>\n",
       "      <td>driver</td>\n",
       "      <td>finished</td>\n",
       "      <td>...</td>\n",
       "      <td>NaN</td>\n",
       "      <td>CA.5.42</td>\n",
       "      <td>finished</td>\n",
       "      <td>finished</td>\n",
       "      <td>DA.4.37</td>\n",
       "      <td>1784</td>\n",
       "      <td>Samsung SM-G398FN</td>\n",
       "      <td>1</td>\n",
       "      <td>0</td>\n",
       "      <td>0.0</td>\n",
       "    </tr>\n",
       "    <tr>\n",
       "      <th>24</th>\n",
       "      <td>1825</td>\n",
       "      <td>1825</td>\n",
       "      <td>2020-02-19 19:05:31</td>\n",
       "      <td>12329.22</td>\n",
       "      <td>NaN</td>\n",
       "      <td>8063</td>\n",
       "      <td>1950</td>\n",
       "      <td>1</td>\n",
       "      <td>client</td>\n",
       "      <td>finished</td>\n",
       "      <td>...</td>\n",
       "      <td>NaN</td>\n",
       "      <td>CI.4.17</td>\n",
       "      <td>finished</td>\n",
       "      <td>finished</td>\n",
       "      <td>DA.4.34</td>\n",
       "      <td>587</td>\n",
       "      <td>Samsung SM-T815Y</td>\n",
       "      <td>0</td>\n",
       "      <td>1</td>\n",
       "      <td>NaN</td>\n",
       "    </tr>\n",
       "    <tr>\n",
       "      <th>30</th>\n",
       "      <td>2439</td>\n",
       "      <td>2439</td>\n",
       "      <td>2020-02-25 07:40:09</td>\n",
       "      <td>14863.50</td>\n",
       "      <td>NaN</td>\n",
       "      <td>9657</td>\n",
       "      <td>2547</td>\n",
       "      <td>0</td>\n",
       "      <td>client</td>\n",
       "      <td>finished</td>\n",
       "      <td>...</td>\n",
       "      <td>NaN</td>\n",
       "      <td>CA.5.44</td>\n",
       "      <td>finished</td>\n",
       "      <td>finished</td>\n",
       "      <td>DA.4.39</td>\n",
       "      <td>2009</td>\n",
       "      <td>INFINIX MOBILITY LIMITED Infinix X606C</td>\n",
       "      <td>0</td>\n",
       "      <td>0</td>\n",
       "      <td>NaN</td>\n",
       "    </tr>\n",
       "  </tbody>\n",
       "</table>\n",
       "<p>10 rows × 26 columns</p>\n",
       "</div>"
      ],
      "text/plain": [
       "    order_id_new  order_try_id_new        calc_created  metered_price  \\\n",
       "3            313               313 2020-02-05 06:34:54       72871.72   \n",
       "8           1904              1904 2020-02-20 16:38:34       13600.50   \n",
       "11          2803              2803 2020-02-29 01:44:16          18.80   \n",
       "12          3313              3313 2020-03-06 00:29:03          31.23   \n",
       "14          3675              3675 2020-03-09 10:50:57           8.53   \n",
       "15          3638              3638 2020-03-08 21:01:19       13643.28   \n",
       "18            73                73 2020-02-02 14:46:22          15.67   \n",
       "19            91                91 2020-02-02 17:29:02           2.97   \n",
       "24          1825              1825 2020-02-19 19:05:31       12329.22   \n",
       "30          2439              2439 2020-02-25 07:40:09       14863.50   \n",
       "\n",
       "    upfront_price  distance  duration  gps_confidence entered_by   b_state  \\\n",
       "3             NaN     49748      1400               0     client  finished   \n",
       "8             NaN      9540      1917               1     client  finished   \n",
       "11            NaN     17107      1552               1     client  finished   \n",
       "12            NaN     54757      6581               1     driver  finished   \n",
       "14            NaN     11456      1205               1     driver  finished   \n",
       "15            NaN     10365      1533               1     client  finished   \n",
       "18            NaN     22396      2237               1     client  finished   \n",
       "19            NaN      1754       491               1     driver  finished   \n",
       "24            NaN      8063      1950               1     client  finished   \n",
       "30            NaN      9657      2547               0     client  finished   \n",
       "\n",
       "    ...  device_token rider_app_version  order_state  order_try_state  \\\n",
       "3   ...           NaN           CA.5.23     finished         finished   \n",
       "8   ...           NaN           CA.5.40     finished         finished   \n",
       "11  ...           NaN           CI.4.17     finished         finished   \n",
       "12  ...           NaN           CI.4.19     finished         finished   \n",
       "14  ...           NaN           CI.4.19     finished         finished   \n",
       "15  ...           NaN           CI.4.19     finished         finished   \n",
       "18  ...           NaN           CA.5.40     finished         finished   \n",
       "19  ...           NaN           CA.5.42     finished         finished   \n",
       "24  ...           NaN           CI.4.17     finished         finished   \n",
       "30  ...           NaN           CA.5.44     finished         finished   \n",
       "\n",
       "   driver_app_version  driver_device_uid_new  \\\n",
       "3             DA.4.37                   1587   \n",
       "8             DA.4.31                    605   \n",
       "11            DA.4.37                   1695   \n",
       "12            DA.4.39                   1459   \n",
       "14            DA.4.42                    629   \n",
       "15            DA.4.39                   1968   \n",
       "18            DA.4.37                   2110   \n",
       "19            DA.4.37                   1784   \n",
       "24            DA.4.34                    587   \n",
       "30            DA.4.39                   2009   \n",
       "\n",
       "                               device_name eu_indicator overpaid_ride_ticket  \\\n",
       "3                                 TECNO-Y6            0                    1   \n",
       "8                                 TECNO K7            0                    0   \n",
       "11                  LENOVO Lenovo TB-7304F            1                    0   \n",
       "12                        Samsung SM-G950F            1                    0   \n",
       "14                       Samsung SM-J610FN            1                    0   \n",
       "15          TECNO MOBILE LIMITED TECNO CC7            0                    0   \n",
       "18                        Samsung SM-G965F            1                    0   \n",
       "19                       Samsung SM-G398FN            1                    0   \n",
       "24                        Samsung SM-T815Y            0                    1   \n",
       "30  INFINIX MOBILITY LIMITED Infinix X606C            0                    0   \n",
       "\n",
       "   fraud_score  \n",
       "3          NaN  \n",
       "8          NaN  \n",
       "11      -100.0  \n",
       "12       -58.0  \n",
       "14      -498.0  \n",
       "15         NaN  \n",
       "18      -160.0  \n",
       "19         0.0  \n",
       "24         NaN  \n",
       "30         NaN  \n",
       "\n",
       "[10 rows x 26 columns]"
      ]
     },
     "execution_count": 5,
     "metadata": {},
     "output_type": "execute_result"
    }
   ],
   "source": [
    "bolt_data[bolt_data[\"upfront_price\"].isnull()].head(10)"
   ]
  },
  {
   "cell_type": "markdown",
   "id": "2962366a",
   "metadata": {},
   "source": [
    "**No clear pattern as to why certain upfront_price values are missing. Let's ignore the data which has missing upfront_price values and continue with our analysis.**"
   ]
  },
  {
   "cell_type": "code",
   "execution_count": 6,
   "id": "db9e6f80",
   "metadata": {},
   "outputs": [
    {
     "data": {
      "text/plain": [
       "3409"
      ]
     },
     "execution_count": 6,
     "metadata": {},
     "output_type": "execute_result"
    }
   ],
   "source": [
    "has_upfront_price = bolt_data[~bolt_data[\"upfront_price\"].isnull()] \n",
    "len(has_upfront_price)"
   ]
  },
  {
   "cell_type": "markdown",
   "id": "bbdea777",
   "metadata": {},
   "source": [
    "**So, 3,409 entries out of 4,943 have a upfront_price in the given data**."
   ]
  },
  {
   "cell_type": "markdown",
   "id": "276a544e",
   "metadata": {},
   "source": [
    "## Calculating Correct upfront_price Predictions\n",
    "\n",
    "Let's now calculate how many of the 3,409 upfront_price predictions are within the 20% tolerance level."
   ]
  },
  {
   "cell_type": "code",
   "execution_count": 7,
   "id": "f3dadd8a",
   "metadata": {},
   "outputs": [],
   "source": [
    "low_upfront_boolean = has_upfront_price[\"upfront_price\"] < 0.80*(has_upfront_price[\"metered_price\"])\n",
    "high_upfront_boolean = has_upfront_price[\"upfront_price\"] > 1.20*(has_upfront_price[\"metered_price\"])"
   ]
  },
  {
   "cell_type": "code",
   "execution_count": 8,
   "id": "e9c85151",
   "metadata": {},
   "outputs": [],
   "source": [
    "correct_predictions = has_upfront_price[~((low_upfront_boolean) | ((high_upfront_boolean)))]"
   ]
  },
  {
   "cell_type": "code",
   "execution_count": 9,
   "id": "878ba4ce",
   "metadata": {},
   "outputs": [
    {
     "data": {
      "text/plain": [
       "'2051 accurate predictions out of 3409 total predictions made. 60.16 % correct predictions'"
      ]
     },
     "execution_count": 9,
     "metadata": {},
     "output_type": "execute_result"
    }
   ],
   "source": [
    "f\"{len(correct_predictions)} accurate predictions out of {len(has_upfront_price)} total predictions made. {len(correct_predictions)/len(has_upfront_price)*100:.2f} % correct predictions\""
   ]
  },
  {
   "cell_type": "markdown",
   "id": "476934de",
   "metadata": {},
   "source": [
    "# Finding correlations b/w upfront_price and other variables"
   ]
  },
  {
   "cell_type": "markdown",
   "id": "7d83389a",
   "metadata": {},
   "source": [
    "**Let's now try to visualize the correlations of upfront_price and metered_price with other variables in the data.**"
   ]
  },
  {
   "cell_type": "code",
   "execution_count": 10,
   "id": "b7f947b8",
   "metadata": {},
   "outputs": [],
   "source": [
    "correlations = has_upfront_price.corr()\n",
    "upfront_price_correlations = correlations[[\"upfront_price\",\"metered_price\"]]"
   ]
  },
  {
   "cell_type": "code",
   "execution_count": 11,
   "id": "cb7a896f",
   "metadata": {},
   "outputs": [
    {
     "data": {
      "image/png": "[encoded data removed]",
      "text/plain": [
       "<Figure size 720x720 with 2 Axes>"
      ]
     },
     "metadata": {
      "needs_background": "light"
     },
     "output_type": "display_data"
    }
   ],
   "source": [
    "fig, ax = plt.subplots(figsize=(10,10))         # Sample figsize in inches\n",
    "sns.heatmap(upfront_price_correlations, cmap ='RdYlGn', linewidths = 0.30, annot = True)\n",
    "plt.show()"
   ]
  },
  {
   "cell_type": "markdown",
   "id": "74203671",
   "metadata": {},
   "source": [
    "**As expected, above heatmap shows that upfront_price has a strong positive correlation with predicted_distance and predicted_duration. This also means that only about 70% of the change in upfront_price is explained by predicted_distance and predicted_duration. This seems low as these are the only two variables that should mainly be deciding the upfront_price. Let's see if we can find scenarios in which the extent of this correlation increases.** "
   ]
  },
  {
   "cell_type": "code",
   "execution_count": 32,
   "id": "2ec7e97f",
   "metadata": {},
   "outputs": [],
   "source": [
    "eu_rides = has_upfront_price[has_upfront_price[\"eu_indicator\"]==1]\n",
    "eu_rides_correlations = eu_rides.corr()\n",
    "eu_rides_upfront_price_correlations=  eu_rides_correlations[[\"upfront_price\",\"metered_price\"]]"
   ]
  },
  {
   "cell_type": "code",
   "execution_count": 31,
   "id": "cdeebc0f",
   "metadata": {},
   "outputs": [
    {
     "data": {
      "image/png": "[encoded data removed]",
      "text/plain": [
       "<Figure size 720x720 with 2 Axes>"
      ]
     },
     "metadata": {
      "needs_background": "light"
     },
     "output_type": "display_data"
    }
   ],
   "source": [
    "fig, ax = plt.subplots(figsize=(10,10))         \n",
    "sns.heatmap(eu_rides_upfront_price_correlations, cmap ='RdYlGn', linewidths = 0.30, annot = True)\n",
    "plt.show()"
   ]
  },
  {
   "cell_type": "markdown",
   "id": "34c2c09e",
   "metadata": {},
   "source": [
    "**The above heatmap clearly shows that the extent of relationship between upfront_price and predicted_distance and predicted_duration goes upto almost 90% when the rides have been filtered to include only the ones made in the EU region. This is understanable as well given that there must be a mathematical formula relating predicted_distance and predicted_duration with the upfront_price. That fomula must have a constant representing the unit price in a given currency. Since rides made in different regions can have different currencies, the one-fits all relationship cannot work with a data coming from different regions of the world. Hence, the best way to increase the precison of upfront_price calculation is by avoiding using one formula on a data that is coming from different currency regions.**"
   ]
  },
  {
   "cell_type": "markdown",
   "id": "4e15d66a",
   "metadata": {},
   "source": [
    "## Histogram of `eu_indicator` in Correct versus Incorrect Predictions"
   ]
  },
  {
   "cell_type": "code",
   "execution_count": 14,
   "id": "0ce4bb67",
   "metadata": {},
   "outputs": [
    {
     "data": {
      "text/plain": [
       "1358"
      ]
     },
     "execution_count": 14,
     "metadata": {},
     "output_type": "execute_result"
    }
   ],
   "source": [
    "incorrect_predictions = has_upfront_price[(low_upfront_boolean) | (high_upfront_boolean)]\n",
    "len(incorrect_predictions)"
   ]
  },
  {
   "cell_type": "code",
   "execution_count": 15,
   "id": "50df2713",
   "metadata": {},
   "outputs": [
    {
     "data": {
      "image/png": "[encoded data removed]",
      "text/plain": [
       "<Figure size 432x288 with 1 Axes>"
      ]
     },
     "metadata": {
      "needs_background": "light"
     },
     "output_type": "display_data"
    }
   ],
   "source": [
    "plt.hist(incorrect_predictions[\"eu_indicator\"])\n",
    "plt.show()"
   ]
  },
  {
   "cell_type": "code",
   "execution_count": 16,
   "id": "a100da12",
   "metadata": {},
   "outputs": [
    {
     "data": {
      "text/plain": [
       "1    864\n",
       "0    494\n",
       "Name: eu_indicator, dtype: int64"
      ]
     },
     "execution_count": 16,
     "metadata": {},
     "output_type": "execute_result"
    }
   ],
   "source": [
    "incorrect_predictions[\"eu_indicator\"].value_counts(dropna=False)"
   ]
  },
  {
   "cell_type": "code",
   "execution_count": 17,
   "id": "5fa7e073",
   "metadata": {},
   "outputs": [
    {
     "data": {
      "image/png": "[encoded data removed]",
      "text/plain": [
       "<Figure size 432x288 with 1 Axes>"
      ]
     },
     "metadata": {
      "needs_background": "light"
     },
     "output_type": "display_data"
    }
   ],
   "source": [
    "plt.hist(correct_predictions[\"eu_indicator\"])\n",
    "plt.show()"
   ]
  },
  {
   "cell_type": "code",
   "execution_count": 26,
   "id": "a9b48cca",
   "metadata": {},
   "outputs": [
    {
     "data": {
      "text/plain": [
       "1    1663\n",
       "0     388\n",
       "Name: eu_indicator, dtype: int64"
      ]
     },
     "execution_count": 26,
     "metadata": {},
     "output_type": "execute_result"
    }
   ],
   "source": [
    "correct_predictions[\"eu_indicator\"].value_counts(dropna=False)"
   ]
  },
  {
   "cell_type": "markdown",
   "id": "adbab95d",
   "metadata": {},
   "source": [
    "**It can be seen from the above histograms and value counts that incorrect predictions are made the most when the data has greater mixed representation of more than one region. This validates the above findings of heatmaps as well.**"
   ]
  },
  {
   "cell_type": "markdown",
   "id": "dc769eca",
   "metadata": {},
   "source": [
    "# GPS_Confidence Analysis"
   ]
  },
  {
   "cell_type": "code",
   "execution_count": 44,
   "id": "a13a0b56",
   "metadata": {},
   "outputs": [
    {
     "data": {
      "text/plain": [
       "1    94.490492\n",
       "0     5.509508\n",
       "Name: gps_confidence, dtype: float64"
      ]
     },
     "execution_count": 44,
     "metadata": {},
     "output_type": "execute_result"
    }
   ],
   "source": [
    "correct_predictions[\"gps_confidence\"].value_counts()/len(correct_predictions)*100"
   ]
  },
  {
   "cell_type": "code",
   "execution_count": 61,
   "id": "bf26b764",
   "metadata": {},
   "outputs": [
    {
     "data": {
      "image/png": "[encoded data removed]",
      "text/plain": [
       "<Figure size 432x288 with 1 Axes>"
      ]
     },
     "metadata": {
      "needs_background": "light"
     },
     "output_type": "display_data"
    }
   ],
   "source": [
    "plt.hist(correct_predictions[\"gps_confidence\"])\n",
    "plt.title(\"Frequency Distribution of GPS_Confidence in correct predictions\")\n",
    "plt.show()"
   ]
  },
  {
   "cell_type": "code",
   "execution_count": 39,
   "id": "2306d8c0",
   "metadata": {
    "scrolled": true
   },
   "outputs": [
    {
     "data": {
      "text/plain": [
       "1    53.583618\n",
       "0    12.627986\n",
       "Name: gps_confidence, dtype: float64"
      ]
     },
     "execution_count": 39,
     "metadata": {},
     "output_type": "execute_result"
    }
   ],
   "source": [
    "incorrect_predictions[\"gps_confidence\"].value_counts()/len(correct_predictions)*100"
   ]
  },
  {
   "cell_type": "code",
   "execution_count": 60,
   "id": "582ddbf8",
   "metadata": {},
   "outputs": [
    {
     "data": {
      "image/png": "[encoded data removed]",
      "text/plain": [
       "<Figure size 432x288 with 1 Axes>"
      ]
     },
     "metadata": {
      "needs_background": "light"
     },
     "output_type": "display_data"
    }
   ],
   "source": [
    "plt.hist(incorrect_predictions[\"gps_confidence\"])\n",
    "plt.title(\"Frequency Distribution of GPS_Confidence in correct predictions\")\n",
    "plt.show()"
   ]
  },
  {
   "cell_type": "markdown",
   "id": "b26faa54",
   "metadata": {},
   "source": [
    "**The above value count analysis and histograms show that almost 13% of inaccurate predictions had 0 gps_confidence as compared with 5.5% of the cases in accurate predictions. This confirms that the gps_confidence has to be there to get better upfront_price predictions.**"
   ]
  },
  {
   "cell_type": "markdown",
   "id": "ddd1a0d0",
   "metadata": {},
   "source": [
    "### The above analysis shows that to increase `upfront_price` calculation accuracy:\n",
    "1. Price calculation forumlas must be region-sensitive to incorporate underlaying currency changes from one region to the other\n",
    "2. `gps_confidence` must be there otherwise users must be prompted about the possibility of inaccuracy in the `upfront_price`"
   ]
  },
  {
   "cell_type": "code",
   "execution_count": null,
   "id": "a374c1b4",
   "metadata": {},
   "outputs": [],
   "source": []
  }
 ],
 "metadata": {
  "kernelspec": {
   "display_name": "Python 3 (ipykernel)",
   "language": "python",
   "name": "python3"
  },
  "language_info": {
   "codemirror_mode": {
    "name": "ipython",
    "version": 3
   },
   "file_extension": ".py",
   "mimetype": "text/x-python",
   "name": "python",
   "nbconvert_exporter": "python",
   "pygments_lexer": "ipython3",
   "version": "3.10.2"
  }
 },
 "nbformat": 4,
 "nbformat_minor": 5
}
